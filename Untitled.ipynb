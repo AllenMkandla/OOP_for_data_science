{
 "cells": [
  {
   "cell_type": "markdown",
   "metadata": {},
   "source": []
  },
  {
   "cell_type": "markdown",
   "metadata": {},
   "source": [
    "\n",
    "\n",
    "\n",
    "# MULTIVARIATE LINEAR REGRESSION\n",
    "\n",
    "### Background Information\n",
    "\n",
    "\n",
    "We will predict employee salaries from different employee characteristics (or features). Import the data salary.csv to a Jupyter Notebook. A description of the variables is given in Salary metadata.csv."
   ]
  },
  {
   "cell_type": "markdown",
   "metadata": {},
   "source": [
    "# Importing required modules"
   ]
  },
  {
   "cell_type": "code",
   "execution_count": 1,
   "metadata": {},
   "outputs": [],
   "source": [
    "import pandas as pd\n",
    "import seaborn as sns \n",
    "import matplotlib.pyplot as plt\n",
    "from sklearn.model_selection import train_test_split\n",
    "from sklearn.preprocessing import StandardScaler\n",
    "import statsmodels.api as sm\n",
    "import numpy as np\n",
    "from statsmodels.tools.eval_measures import rmse\n"
   ]
  },
  {
   "cell_type": "code",
   "execution_count": 2,
   "metadata": {},
   "outputs": [],
   "source": [
    "class ErrorCalculator():\n",
    "    def __init__(self, y_test, Y_predicted):\n",
    "        self.y_test = y_test\n",
    "        self.Y_predict = Y_predicted\n",
    "        \n",
    "    def get_residuals(self):\n",
    "        return self.y_test - self.Y_predicted\n",
    "    \n",
    "    def get_standardized_residuals(self):\n",
    "        return self.get_residuals() / self.get_residuals().std()\n",
    "    \n",
    "    def get_mse(self):\n",
    "        return np.square(np.subtract(self.y_test, self.Y_predicted)).mean()\n",
    "    \n",
    "    def get_rmse(self):\n",
    "        return np.sqrt(((self.Y_predicted - self.y_test) ** 2).mean())\n",
    "    \n",
    "    def error_summary(self):\n",
    "        return pd.DataFrame({\"Standardized Residuals Average Mean\" : [self.get_standardized_residuals().mean()],\n",
    "                            \"Standardized Residuals Average Min\": [self.get_standardized_residuals().min()],\n",
    "                            \"Standadized Residuals Average Max\" : [self.get_standardized_residuals().max()],\n",
    "                            \"MSE\": [self.get_sme()],\n",
    "                            \"RMSE\": [self.get_rmse()]},\n",
    "                            columns [\"Standardized Residuals Average Mean\",\n",
    "                                     \"Standardized Residuals Average Mean\",\n",
    "                                     \"MSE\"\n",
    "                                     \"RMSE\"])\n",
    "        \n",
    "        "
   ]
  },
  {
   "cell_type": "code",
   "execution_count": 3,
   "metadata": {},
   "outputs": [
    {
     "data": {
      "text/html": [
       "<div>\n",
       "<style scoped>\n",
       "    .dataframe tbody tr th:only-of-type {\n",
       "        vertical-align: middle;\n",
       "    }\n",
       "\n",
       "    .dataframe tbody tr th {\n",
       "        vertical-align: top;\n",
       "    }\n",
       "\n",
       "    .dataframe thead th {\n",
       "        text-align: right;\n",
       "    }\n",
       "</style>\n",
       "<table border=\"1\" class=\"dataframe\">\n",
       "  <thead>\n",
       "    <tr style=\"text-align: right;\">\n",
       "      <th></th>\n",
       "      <th>salary</th>\n",
       "      <th>exprior</th>\n",
       "      <th>yearsworked</th>\n",
       "      <th>yearsrank</th>\n",
       "      <th>market</th>\n",
       "      <th>degree</th>\n",
       "      <th>otherqual</th>\n",
       "      <th>position</th>\n",
       "      <th>male</th>\n",
       "      <th>Field</th>\n",
       "      <th>yearsabs</th>\n",
       "    </tr>\n",
       "  </thead>\n",
       "  <tbody>\n",
       "    <tr>\n",
       "      <th>0</th>\n",
       "      <td>53000.0</td>\n",
       "      <td>0</td>\n",
       "      <td>0</td>\n",
       "      <td>0</td>\n",
       "      <td>1.17</td>\n",
       "      <td>1</td>\n",
       "      <td>0</td>\n",
       "      <td>1</td>\n",
       "      <td>1</td>\n",
       "      <td>3</td>\n",
       "      <td>0</td>\n",
       "    </tr>\n",
       "    <tr>\n",
       "      <th>1</th>\n",
       "      <td>58000.0</td>\n",
       "      <td>1</td>\n",
       "      <td>0</td>\n",
       "      <td>0</td>\n",
       "      <td>1.24</td>\n",
       "      <td>1</td>\n",
       "      <td>0</td>\n",
       "      <td>1</td>\n",
       "      <td>1</td>\n",
       "      <td>2</td>\n",
       "      <td>0</td>\n",
       "    </tr>\n",
       "  </tbody>\n",
       "</table>\n",
       "</div>"
      ],
      "text/plain": [
       "    salary  exprior  yearsworked  yearsrank  market  degree  otherqual  \\\n",
       "0  53000.0        0            0          0    1.17       1          0   \n",
       "1  58000.0        1            0          0    1.24       1          0   \n",
       "\n",
       "   position  male  Field  yearsabs  \n",
       "0         1     1      3         0  \n",
       "1         1     1      2         0  "
      ]
     },
     "execution_count": 3,
     "metadata": {},
     "output_type": "execute_result"
    }
   ],
   "source": [
    "df = pd.read_csv(\"data/salary .csv\")\n",
    "df.head(2)"
   ]
  },
  {
   "cell_type": "markdown",
   "metadata": {},
   "source": [
    "# Cleaning of Data"
   ]
  },
  {
   "cell_type": "markdown",
   "metadata": {},
   "source": [
    "### Renaming Columns\n",
    "\n",
    "\n",
    "\n"
   ]
  },
  {
   "cell_type": "code",
   "execution_count": 4,
   "metadata": {},
   "outputs": [],
   "source": [
    "#renaming the columns\n",
    "file= df.rename(columns={\n",
    "    'salary': 'salary_earned',\n",
    "    'exprior': 'prior_experience',\n",
    "    'yearsworked': 'years_worked',\n",
    "    'yearsrank': 'yrs_current_rank',\n",
    "    'market': 'market_value',\n",
    "    'male': 'gender',\n",
    "    'Field': 'field',\n",
    "    'yearsabs': 'years_absent',\n",
    "    'otherqual': 'post-secondary_qual',\n",
    "    'position': 'rank',\n",
    "    \n",
    "}, inplace=True\n",
    "                       )"
   ]
  },
  {
   "cell_type": "code",
   "execution_count": 5,
   "metadata": {},
   "outputs": [],
   "source": [
    "# Rounding off salary column as it is a variable representing currency(dollars)\n",
    "df.salary_earned = df.salary_earned.round(2)"
   ]
  },
  {
   "cell_type": "markdown",
   "metadata": {},
   "source": [
    "\n",
    "\n",
    "### Checking for null values "
   ]
  },
  {
   "cell_type": "code",
   "execution_count": 6,
   "metadata": {},
   "outputs": [
    {
     "data": {
      "text/plain": [
       "(514, 11)"
      ]
     },
     "execution_count": 6,
     "metadata": {},
     "output_type": "execute_result"
    }
   ],
   "source": [
    "df.isnull().sum()\n",
    "df.shape"
   ]
  },
  {
   "cell_type": "code",
   "execution_count": 7,
   "metadata": {},
   "outputs": [],
   "source": [
    "#filling the null value with the mean\n",
    "df = df.fillna(df['salary_earned'].mean())\n"
   ]
  },
  {
   "cell_type": "markdown",
   "metadata": {},
   "source": [
    "### Derteming and dealing with outliers"
   ]
  },
  {
   "cell_type": "markdown",
   "metadata": {},
   "source": [
    "##### Importance of  checking for extreme values (outliers)\n",
    "* Linear regression is based on mostly parametric statistics like means, standard deviation and in this case correlation between salary earned and years of experience accrued. \n",
    "\n",
    "* Outliers who alter parametric statistics significantly would in turn alter predictions to be made."
   ]
  },
  {
   "cell_type": "markdown",
   "metadata": {},
   "source": [
    "####  Dropping the outliers"
   ]
  },
  {
   "cell_type": "markdown",
   "metadata": {},
   "source": [
    "\n",
    "\n",
    "* The outliers in question do not change the results desired from the model but does affect assumptions made about the dependant variable(salary_earned)\n",
    "\n",
    "* The gradient of the regression model and the mean would be affected significantly enough to give reason for dropiing the values. The accuracy of the Predictions to be made will be slightly distorted due to that the values in question affect the skew of distribution for salary_earned. \n",
    "##### * The extreme values should be dropped"
   ]
  },
  {
   "cell_type": "code",
   "execution_count": 8,
   "metadata": {},
   "outputs": [],
   "source": [
    "#dropping the outliers\n",
    "df = df.drop(df.index[[280,377]])"
   ]
  },
  {
   "cell_type": "markdown",
   "metadata": {},
   "source": [
    "# Exploratory Data Analysis (EDA)"
   ]
  },
  {
   "cell_type": "markdown",
   "metadata": {},
   "source": [
    "### Scatterplots to show corr of the independand and dependant varibles "
   ]
  },
  {
   "cell_type": "markdown",
   "metadata": {},
   "source": [
    "\n",
    "# 3. Feature selection\n",
    "\n",
    "Feature selection comprises of determining which independant variables are to be considered as variables of interest. A correlation matrix is usually the best method to dertemine which independant variables affect the variable to be predicted."
   ]
  },
  {
   "cell_type": "code",
   "execution_count": 9,
   "metadata": {},
   "outputs": [
    {
     "data": {
      "text/html": [
       "<div>\n",
       "<style scoped>\n",
       "    .dataframe tbody tr th:only-of-type {\n",
       "        vertical-align: middle;\n",
       "    }\n",
       "\n",
       "    .dataframe tbody tr th {\n",
       "        vertical-align: top;\n",
       "    }\n",
       "\n",
       "    .dataframe thead th {\n",
       "        text-align: right;\n",
       "    }\n",
       "</style>\n",
       "<table border=\"1\" class=\"dataframe\">\n",
       "  <thead>\n",
       "    <tr style=\"text-align: right;\">\n",
       "      <th></th>\n",
       "      <th>salary_earned</th>\n",
       "      <th>prior_experience</th>\n",
       "      <th>years_worked</th>\n",
       "      <th>yrs_current_rank</th>\n",
       "      <th>market_value</th>\n",
       "      <th>degree</th>\n",
       "      <th>post-secondary_qual</th>\n",
       "      <th>rank</th>\n",
       "      <th>gender</th>\n",
       "      <th>field</th>\n",
       "      <th>years_absent</th>\n",
       "    </tr>\n",
       "  </thead>\n",
       "  <tbody>\n",
       "    <tr>\n",
       "      <th>salary_earned</th>\n",
       "      <td>1.0</td>\n",
       "      <td>0.102471</td>\n",
       "      <td>0.632135</td>\n",
       "      <td>0.613411</td>\n",
       "      <td>0.397153</td>\n",
       "      <td>0.043012</td>\n",
       "      <td>0.173972</td>\n",
       "      <td>0.704892</td>\n",
       "      <td>0.362302</td>\n",
       "      <td>-0.493484</td>\n",
       "      <td>-0.066496</td>\n",
       "    </tr>\n",
       "  </tbody>\n",
       "</table>\n",
       "</div>"
      ],
      "text/plain": [
       "               salary_earned  prior_experience  years_worked  \\\n",
       "salary_earned            1.0          0.102471      0.632135   \n",
       "\n",
       "               yrs_current_rank  market_value    degree  post-secondary_qual  \\\n",
       "salary_earned          0.613411      0.397153  0.043012             0.173972   \n",
       "\n",
       "                   rank    gender     field  years_absent  \n",
       "salary_earned  0.704892  0.362302 -0.493484     -0.066496  "
      ]
     },
     "execution_count": 9,
     "metadata": {},
     "output_type": "execute_result"
    }
   ],
   "source": [
    "df.corr().head(1)"
   ]
  },
  {
   "cell_type": "code",
   "execution_count": 10,
   "metadata": {},
   "outputs": [],
   "source": [
    "correlation = df.corr()[abs(df.corr()[\"salary_earned\"]) > 0.35].sort_values(by=[\"salary_earned\"], ascending=False)"
   ]
  },
  {
   "cell_type": "code",
   "execution_count": 11,
   "metadata": {},
   "outputs": [
    {
     "data": {
      "text/plain": [
       "<matplotlib.axes._subplots.AxesSubplot at 0x7fa1ee8a66d0>"
      ]
     },
     "execution_count": 11,
     "metadata": {},
     "output_type": "execute_result"
    },
    {
     "data": {
      "image/png": "[encoded data removed]",
      "text/plain": [
       "<Figure size 1440x864 with 2 Axes>"
      ]
     },
     "metadata": {
      "needs_background": "light"
     },
     "output_type": "display_data"
    }
   ],
   "source": [
    "plt.figure(figsize=(20,12))\n",
    "sns.heatmap(correlation, vmin=-1, vmax=1, annot=True, linewidth=0.1)"
   ]
  },
  {
   "cell_type": "markdown",
   "metadata": {},
   "source": [
    "From the table above, we can deduce that the following may be good predictors of salary_earned:\n",
    "* years_worked\n",
    "* yrs_current_rank\n",
    "* market_value\n",
    "* rank\n",
    "* field"
   ]
  },
  {
   "cell_type": "markdown",
   "metadata": {},
   "source": [
    "### Feature Engineering and Transformation"
   ]
  },
  {
   "cell_type": "code",
   "execution_count": 12,
   "metadata": {},
   "outputs": [
    {
     "name": "stdout",
     "output_type": "stream",
     "text": [
      "Overall variance: 13997154.614465283\n"
     ]
    }
   ],
   "source": [
    "\n",
    "total_variance = []\n",
    "for i in df.columns:\n",
    "    total_variance.append(df[i].var())\n",
    "\n",
    "print(\"Overall variance: {}\".format(sum(total_variance) / len(total_variance)))"
   ]
  },
  {
   "cell_type": "code",
   "execution_count": 13,
   "metadata": {},
   "outputs": [
    {
     "data": {
      "text/html": [
       "<div>\n",
       "<style scoped>\n",
       "    .dataframe tbody tr th:only-of-type {\n",
       "        vertical-align: middle;\n",
       "    }\n",
       "\n",
       "    .dataframe tbody tr th {\n",
       "        vertical-align: top;\n",
       "    }\n",
       "\n",
       "    .dataframe thead th {\n",
       "        text-align: right;\n",
       "    }\n",
       "</style>\n",
       "<table border=\"1\" class=\"dataframe\">\n",
       "  <thead>\n",
       "    <tr style=\"text-align: right;\">\n",
       "      <th></th>\n",
       "      <th>salary_earned</th>\n",
       "      <th>prior_experience</th>\n",
       "      <th>years_worked</th>\n",
       "      <th>yrs_current_rank</th>\n",
       "      <th>market_value</th>\n",
       "      <th>degree</th>\n",
       "      <th>post-secondary_qual</th>\n",
       "      <th>rank</th>\n",
       "      <th>gender</th>\n",
       "      <th>field</th>\n",
       "      <th>years_absent</th>\n",
       "    </tr>\n",
       "  </thead>\n",
       "  <tbody>\n",
       "    <tr>\n",
       "      <th>0</th>\n",
       "      <td>0.185897</td>\n",
       "      <td>-0.612195</td>\n",
       "      <td>-1.359075</td>\n",
       "      <td>-1.096628</td>\n",
       "      <td>1.494736</td>\n",
       "      <td>0.190885</td>\n",
       "      <td>-0.216875</td>\n",
       "      <td>-1.37827</td>\n",
       "      <td>0.57735</td>\n",
       "      <td>0.413396</td>\n",
       "      <td>-0.414907</td>\n",
       "    </tr>\n",
       "    <tr>\n",
       "      <th>1</th>\n",
       "      <td>0.589244</td>\n",
       "      <td>-0.400980</td>\n",
       "      <td>-1.359075</td>\n",
       "      <td>-1.096628</td>\n",
       "      <td>1.965197</td>\n",
       "      <td>0.190885</td>\n",
       "      <td>-0.216875</td>\n",
       "      <td>-1.37827</td>\n",
       "      <td>0.57735</td>\n",
       "      <td>-0.475927</td>\n",
       "      <td>-0.414907</td>\n",
       "    </tr>\n",
       "    <tr>\n",
       "      <th>2</th>\n",
       "      <td>-0.419124</td>\n",
       "      <td>-0.612195</td>\n",
       "      <td>-1.359075</td>\n",
       "      <td>-1.096628</td>\n",
       "      <td>1.763571</td>\n",
       "      <td>0.190885</td>\n",
       "      <td>-0.216875</td>\n",
       "      <td>-1.37827</td>\n",
       "      <td>0.57735</td>\n",
       "      <td>0.413396</td>\n",
       "      <td>-0.296462</td>\n",
       "    </tr>\n",
       "    <tr>\n",
       "      <th>3</th>\n",
       "      <td>-1.203069</td>\n",
       "      <td>-0.612195</td>\n",
       "      <td>-1.147282</td>\n",
       "      <td>-0.940620</td>\n",
       "      <td>0.284981</td>\n",
       "      <td>0.190885</td>\n",
       "      <td>-0.216875</td>\n",
       "      <td>-1.37827</td>\n",
       "      <td>0.57735</td>\n",
       "      <td>1.302720</td>\n",
       "      <td>-0.355685</td>\n",
       "    </tr>\n",
       "    <tr>\n",
       "      <th>4</th>\n",
       "      <td>-1.287853</td>\n",
       "      <td>-0.612195</td>\n",
       "      <td>-1.147282</td>\n",
       "      <td>-0.784612</td>\n",
       "      <td>-0.252689</td>\n",
       "      <td>0.190885</td>\n",
       "      <td>-0.216875</td>\n",
       "      <td>-1.37827</td>\n",
       "      <td>0.57735</td>\n",
       "      <td>1.302720</td>\n",
       "      <td>-0.355685</td>\n",
       "    </tr>\n",
       "  </tbody>\n",
       "</table>\n",
       "</div>"
      ],
      "text/plain": [
       "   salary_earned  prior_experience  years_worked  yrs_current_rank  \\\n",
       "0       0.185897         -0.612195     -1.359075         -1.096628   \n",
       "1       0.589244         -0.400980     -1.359075         -1.096628   \n",
       "2      -0.419124         -0.612195     -1.359075         -1.096628   \n",
       "3      -1.203069         -0.612195     -1.147282         -0.940620   \n",
       "4      -1.287853         -0.612195     -1.147282         -0.784612   \n",
       "\n",
       "   market_value    degree  post-secondary_qual     rank   gender     field  \\\n",
       "0      1.494736  0.190885            -0.216875 -1.37827  0.57735  0.413396   \n",
       "1      1.965197  0.190885            -0.216875 -1.37827  0.57735 -0.475927   \n",
       "2      1.763571  0.190885            -0.216875 -1.37827  0.57735  0.413396   \n",
       "3      0.284981  0.190885            -0.216875 -1.37827  0.57735  1.302720   \n",
       "4     -0.252689  0.190885            -0.216875 -1.37827  0.57735  1.302720   \n",
       "\n",
       "   years_absent  \n",
       "0     -0.414907  \n",
       "1     -0.414907  \n",
       "2     -0.296462  \n",
       "3     -0.355685  \n",
       "4     -0.355685  "
      ]
     },
     "execution_count": 13,
     "metadata": {},
     "output_type": "execute_result"
    }
   ],
   "source": [
    "scaler = StandardScaler()\n",
    "\n",
    "scaled_data = scaler.fit_transform(df)\n",
    "\n",
    "scaled_data = pd.DataFrame(scaled_data, columns = df.columns)\n",
    "\n",
    "scaled_data.head()"
   ]
  },
  {
   "cell_type": "code",
   "execution_count": 14,
   "metadata": {},
   "outputs": [],
   "source": [
    "# One-hot encoding of the variable field\n",
    "df[\"field\"] = df[\"field\"].replace([1, 2, 3, 4], ['Engineering', 'Finance', 'Human Resources', 'Marketing'])\n",
    "df = pd.get_dummies(df).drop('field_Human Resources', axis=1)\n"
   ]
  },
  {
   "cell_type": "code",
   "execution_count": null,
   "metadata": {},
   "outputs": [],
   "source": [
    "\n"
   ]
  },
  {
   "cell_type": "code",
   "execution_count": 15,
   "metadata": {},
   "outputs": [
    {
     "data": {
      "text/html": [
       "<div>\n",
       "<style scoped>\n",
       "    .dataframe tbody tr th:only-of-type {\n",
       "        vertical-align: middle;\n",
       "    }\n",
       "\n",
       "    .dataframe tbody tr th {\n",
       "        vertical-align: top;\n",
       "    }\n",
       "\n",
       "    .dataframe thead th {\n",
       "        text-align: right;\n",
       "    }\n",
       "</style>\n",
       "<table border=\"1\" class=\"dataframe\">\n",
       "  <thead>\n",
       "    <tr style=\"text-align: right;\">\n",
       "      <th></th>\n",
       "      <th>salary_earned</th>\n",
       "      <th>prior_experience</th>\n",
       "      <th>years_worked</th>\n",
       "      <th>yrs_current_rank</th>\n",
       "      <th>market_value</th>\n",
       "      <th>degree</th>\n",
       "      <th>post-secondary_qual</th>\n",
       "      <th>rank</th>\n",
       "      <th>gender</th>\n",
       "      <th>years_absent</th>\n",
       "      <th>field_Engineering</th>\n",
       "      <th>field_Finance</th>\n",
       "      <th>field_Marketing</th>\n",
       "    </tr>\n",
       "  </thead>\n",
       "  <tbody>\n",
       "    <tr>\n",
       "      <th>salary_earned</th>\n",
       "      <td>1.0</td>\n",
       "      <td>0.102471</td>\n",
       "      <td>0.632135</td>\n",
       "      <td>0.613411</td>\n",
       "      <td>0.397153</td>\n",
       "      <td>0.043012</td>\n",
       "      <td>0.173972</td>\n",
       "      <td>0.704892</td>\n",
       "      <td>0.362302</td>\n",
       "      <td>-0.066496</td>\n",
       "      <td>0.414572</td>\n",
       "      <td>0.244826</td>\n",
       "      <td>-0.213358</td>\n",
       "    </tr>\n",
       "  </tbody>\n",
       "</table>\n",
       "</div>"
      ],
      "text/plain": [
       "               salary_earned  prior_experience  years_worked  \\\n",
       "salary_earned            1.0          0.102471      0.632135   \n",
       "\n",
       "               yrs_current_rank  market_value    degree  post-secondary_qual  \\\n",
       "salary_earned          0.613411      0.397153  0.043012             0.173972   \n",
       "\n",
       "                   rank    gender  years_absent  field_Engineering  \\\n",
       "salary_earned  0.704892  0.362302     -0.066496           0.414572   \n",
       "\n",
       "               field_Finance  field_Marketing  \n",
       "salary_earned       0.244826        -0.213358  "
      ]
     },
     "execution_count": 15,
     "metadata": {},
     "output_type": "execute_result"
    }
   ],
   "source": [
    "df.corr().head(1)"
   ]
  },
  {
   "cell_type": "markdown",
   "metadata": {},
   "source": [
    "## Multicollinearity"
   ]
  },
  {
   "cell_type": "markdown",
   "metadata": {},
   "source": [
    "This occurs when two or more variables explain the same variance within a dataset. Hence it is important to check for multicollinearity to reduce the risk of using two independent variables that contribute the same effect to the prediction to be made.This in turn would significantly alter the accuracy of the predictions to be made. "
   ]
  },
  {
   "cell_type": "markdown",
   "metadata": {},
   "source": [
    "### Using VIF to deal with possible multicollinearity"
   ]
  },
  {
   "cell_type": "markdown",
   "metadata": {},
   "source": [
    "\n",
    "drop the variable with VIF of 10 and higher which in this instant is years worked"
   ]
  },
  {
   "cell_type": "markdown",
   "metadata": {},
   "source": [
    "\n",
    "\n",
    "# 2. Building Model 1"
   ]
  },
  {
   "cell_type": "code",
   "execution_count": 16,
   "metadata": {},
   "outputs": [
    {
     "data": {
      "text/plain": [
       "Index(['salary_earned', 'prior_experience', 'years_worked', 'yrs_current_rank',\n",
       "       'market_value', 'degree', 'post-secondary_qual', 'rank', 'gender',\n",
       "       'years_absent', 'field_Engineering', 'field_Finance',\n",
       "       'field_Marketing'],\n",
       "      dtype='object')"
      ]
     },
     "execution_count": 16,
     "metadata": {},
     "output_type": "execute_result"
    }
   ],
   "source": [
    "df.columns"
   ]
  },
  {
   "cell_type": "code",
   "execution_count": 17,
   "metadata": {},
   "outputs": [
    {
     "data": {
      "text/html": [
       "<table class=\"simpletable\">\n",
       "<caption>OLS Regression Results</caption>\n",
       "<tr>\n",
       "  <th>Dep. Variable:</th>      <td>salary_earned</td>  <th>  R-squared:         </th> <td>   0.774</td> \n",
       "</tr>\n",
       "<tr>\n",
       "  <th>Model:</th>                   <td>OLS</td>       <th>  Adj. R-squared:    </th> <td>   0.768</td> \n",
       "</tr>\n",
       "<tr>\n",
       "  <th>Method:</th>             <td>Least Squares</td>  <th>  F-statistic:       </th> <td>   123.5</td> \n",
       "</tr>\n",
       "<tr>\n",
       "  <th>Date:</th>             <td>Mon, 15 Jun 2020</td> <th>  Prob (F-statistic):</th> <td>9.32e-121</td>\n",
       "</tr>\n",
       "<tr>\n",
       "  <th>Time:</th>                 <td>14:44:42</td>     <th>  Log-Likelihood:    </th> <td> -4141.2</td> \n",
       "</tr>\n",
       "<tr>\n",
       "  <th>No. Observations:</th>      <td>   409</td>      <th>  AIC:               </th> <td>   8306.</td> \n",
       "</tr>\n",
       "<tr>\n",
       "  <th>Df Residuals:</th>          <td>   397</td>      <th>  BIC:               </th> <td>   8354.</td> \n",
       "</tr>\n",
       "<tr>\n",
       "  <th>Df Model:</th>              <td>    11</td>      <th>                     </th>     <td> </td>    \n",
       "</tr>\n",
       "<tr>\n",
       "  <th>Covariance Type:</th>      <td>nonrobust</td>    <th>                     </th>     <td> </td>    \n",
       "</tr>\n",
       "</table>\n",
       "<table class=\"simpletable\">\n",
       "<tr>\n",
       "           <td></td>              <th>coef</th>     <th>std err</th>      <th>t</th>      <th>P>|t|</th>  <th>[0.025</th>    <th>0.975]</th>  \n",
       "</tr>\n",
       "<tr>\n",
       "  <th>const</th>               <td> 4505.0224</td> <td> 2680.004</td> <td>    1.681</td> <td> 0.094</td> <td> -763.752</td> <td> 9773.797</td>\n",
       "</tr>\n",
       "<tr>\n",
       "  <th>prior_experience</th>    <td>  608.4358</td> <td>   76.420</td> <td>    7.962</td> <td> 0.000</td> <td>  458.197</td> <td>  758.674</td>\n",
       "</tr>\n",
       "<tr>\n",
       "  <th>years_worked</th>        <td>  694.6712</td> <td>   63.511</td> <td>   10.938</td> <td> 0.000</td> <td>  569.812</td> <td>  819.530</td>\n",
       "</tr>\n",
       "<tr>\n",
       "  <th>yrs_current_rank</th>    <td>  310.4777</td> <td>   82.686</td> <td>    3.755</td> <td> 0.000</td> <td>  147.920</td> <td>  473.036</td>\n",
       "</tr>\n",
       "<tr>\n",
       "  <th>market_value</th>        <td> 2.956e+04</td> <td> 2263.788</td> <td>   13.059</td> <td> 0.000</td> <td> 2.51e+04</td> <td>  3.4e+04</td>\n",
       "</tr>\n",
       "<tr>\n",
       "  <th>degree</th>              <td> 1297.6685</td> <td> 1615.987</td> <td>    0.803</td> <td> 0.422</td> <td>-1879.293</td> <td> 4474.630</td>\n",
       "</tr>\n",
       "<tr>\n",
       "  <th>post-secondary_qual</th> <td> 6113.4155</td> <td> 1474.217</td> <td>    4.147</td> <td> 0.000</td> <td> 3215.167</td> <td> 9011.664</td>\n",
       "</tr>\n",
       "<tr>\n",
       "  <th>gender</th>              <td> 1213.5324</td> <td> 1035.271</td> <td>    1.172</td> <td> 0.242</td> <td> -821.767</td> <td> 3248.832</td>\n",
       "</tr>\n",
       "<tr>\n",
       "  <th>field_Engineering</th>   <td> 7018.8503</td> <td>  982.054</td> <td>    7.147</td> <td> 0.000</td> <td> 5088.173</td> <td> 8949.527</td>\n",
       "</tr>\n",
       "<tr>\n",
       "  <th>field_Finance</th>       <td> 5486.9523</td> <td>  937.425</td> <td>    5.853</td> <td> 0.000</td> <td> 3644.014</td> <td> 7329.891</td>\n",
       "</tr>\n",
       "<tr>\n",
       "  <th>field_Marketing</th>     <td> 1255.6114</td> <td>  865.995</td> <td>    1.450</td> <td> 0.148</td> <td> -446.898</td> <td> 2958.121</td>\n",
       "</tr>\n",
       "<tr>\n",
       "  <th>years_absent</th>        <td>  -32.0120</td> <td>   25.382</td> <td>   -1.261</td> <td> 0.208</td> <td>  -81.911</td> <td>   17.887</td>\n",
       "</tr>\n",
       "</table>\n",
       "<table class=\"simpletable\">\n",
       "<tr>\n",
       "  <th>Omnibus:</th>       <td>38.411</td> <th>  Durbin-Watson:     </th> <td>   2.104</td>\n",
       "</tr>\n",
       "<tr>\n",
       "  <th>Prob(Omnibus):</th> <td> 0.000</td> <th>  Jarque-Bera (JB):  </th> <td>  74.417</td>\n",
       "</tr>\n",
       "<tr>\n",
       "  <th>Skew:</th>          <td> 0.549</td> <th>  Prob(JB):          </th> <td>6.93e-17</td>\n",
       "</tr>\n",
       "<tr>\n",
       "  <th>Kurtosis:</th>      <td> 4.778</td> <th>  Cond. No.          </th> <td>    236.</td>\n",
       "</tr>\n",
       "</table><br/><br/>Warnings:<br/>[1] Standard Errors assume that the covariance matrix of the errors is correctly specified."
      ],
      "text/plain": [
       "<class 'statsmodels.iolib.summary.Summary'>\n",
       "\"\"\"\n",
       "                            OLS Regression Results                            \n",
       "==============================================================================\n",
       "Dep. Variable:          salary_earned   R-squared:                       0.774\n",
       "Model:                            OLS   Adj. R-squared:                  0.768\n",
       "Method:                 Least Squares   F-statistic:                     123.5\n",
       "Date:                Mon, 15 Jun 2020   Prob (F-statistic):          9.32e-121\n",
       "Time:                        14:44:42   Log-Likelihood:                -4141.2\n",
       "No. Observations:                 409   AIC:                             8306.\n",
       "Df Residuals:                     397   BIC:                             8354.\n",
       "Df Model:                          11                                         \n",
       "Covariance Type:            nonrobust                                         \n",
       "=======================================================================================\n",
       "                          coef    std err          t      P>|t|      [0.025      0.975]\n",
       "---------------------------------------------------------------------------------------\n",
       "const                4505.0224   2680.004      1.681      0.094    -763.752    9773.797\n",
       "prior_experience      608.4358     76.420      7.962      0.000     458.197     758.674\n",
       "years_worked          694.6712     63.511     10.938      0.000     569.812     819.530\n",
       "yrs_current_rank      310.4777     82.686      3.755      0.000     147.920     473.036\n",
       "market_value         2.956e+04   2263.788     13.059      0.000    2.51e+04     3.4e+04\n",
       "degree               1297.6685   1615.987      0.803      0.422   -1879.293    4474.630\n",
       "post-secondary_qual  6113.4155   1474.217      4.147      0.000    3215.167    9011.664\n",
       "gender               1213.5324   1035.271      1.172      0.242    -821.767    3248.832\n",
       "field_Engineering    7018.8503    982.054      7.147      0.000    5088.173    8949.527\n",
       "field_Finance        5486.9523    937.425      5.853      0.000    3644.014    7329.891\n",
       "field_Marketing      1255.6114    865.995      1.450      0.148    -446.898    2958.121\n",
       "years_absent          -32.0120     25.382     -1.261      0.208     -81.911      17.887\n",
       "==============================================================================\n",
       "Omnibus:                       38.411   Durbin-Watson:                   2.104\n",
       "Prob(Omnibus):                  0.000   Jarque-Bera (JB):               74.417\n",
       "Skew:                           0.549   Prob(JB):                     6.93e-17\n",
       "Kurtosis:                       4.778   Cond. No.                         236.\n",
       "==============================================================================\n",
       "\n",
       "Warnings:\n",
       "[1] Standard Errors assume that the covariance matrix of the errors is correctly specified.\n",
       "\"\"\""
      ]
     },
     "execution_count": 17,
     "metadata": {},
     "output_type": "execute_result"
    }
   ],
   "source": [
    "x = df[['prior_experience','years_worked','yrs_current_rank','market_value','degree','post-secondary_qual','gender','field_Engineering','field_Finance','field_Marketing','years_absent' ]]\n",
    "y = df['salary_earned']\n",
    "X_train, X_test, y_train, y_test = train_test_split(x, y, test_size=0.20, random_state=42)\n",
    "#concatinating into Train and Test set\n",
    "df_train = pd.concat([X_train, y_train], axis=1).reindex(X_train.index)\n",
    "df_test = pd.concat([X_test, y_test], axis=1).reindex(X_test.index)\n",
    "# add constant\n",
    "X_train = sm.add_constant(X_train)\n",
    "X_test = sm.add_constant(X_test)\n",
    "\n",
    "X = X_train\n",
    "y = y_train\n",
    "# fitting the model\n",
    "model = sm.OLS(y, X).fit()\n",
    "model.summary()"
   ]
  },
  {
   "cell_type": "code",
   "execution_count": null,
   "metadata": {},
   "outputs": [],
   "source": []
  },
  {
   "cell_type": "markdown",
   "metadata": {},
   "source": [
    "### Calculating RMSE"
   ]
  },
  {
   "cell_type": "code",
   "execution_count": 18,
   "metadata": {},
   "outputs": [],
   "source": [
    "#train root mean squared error\n",
    "rmse_train = rmse(y_train, model.predict(X_train))\n",
    "#tarin root mean squared error\n",
    "rmse_test = rmse(y_test, model.predict(X_test))"
   ]
  },
  {
   "cell_type": "markdown",
   "metadata": {},
   "source": [
    "### Residual plot"
   ]
  },
  {
   "cell_type": "code",
   "execution_count": 19,
   "metadata": {},
   "outputs": [
    {
     "data": {
      "image/png": "[encoded data removed]",
      "text/plain": [
       "<Figure size 720x576 with 1 Axes>"
      ]
     },
     "metadata": {
      "needs_background": "light"
     },
     "output_type": "display_data"
    }
   ],
   "source": [
    "plt.figure(figsize=(10,8))\n",
    "sns.residplot(x = model.fittedvalues, y = model.resid, lowess=True)\n",
    "\n",
    "plt.title('Residuals VS the Predicted Salary', fontsize=16)\n",
    "plt.xlabel('Fitted Values')\n",
    "plt.ylabel('Residuals')\n",
    "\n",
    "plt.show()"
   ]
  },
  {
   "cell_type": "markdown",
   "metadata": {},
   "source": [
    "# OOP FOR DATA SCIENCE"
   ]
  },
  {
   "cell_type": "markdown",
   "metadata": {},
   "source": [
    "It is efficient to put machine learning models and other data science techniques into classes so that we can reuse them later and change attributes without changing the code behind these models. Independent concepts can also be put into independent classes: for example, the functioning of a cross-validate class should not affect the functioning of a linear regression class,"
   ]
  },
  {
   "cell_type": "markdown",
   "metadata": {},
   "source": [
    "### The  __ErrorCalculator__ class\n",
    "This class will hav methods to compute residuals, standardised residuals, Mean Squared Error (MSE) and Root Mean Squared Error (RMSE).\n"
   ]
  },
  {
   "cell_type": "markdown",
   "metadata": {},
   "source": [
    "## Standardizing the features"
   ]
  },
  {
   "cell_type": "markdown",
   "metadata": {},
   "source": [
    "### The  __Plotter__ class\n",
    "\n"
   ]
  },
  {
   "cell_type": "code",
   "execution_count": 20,
   "metadata": {},
   "outputs": [],
   "source": [
    "class Plotter():\n",
    "    def __init__(self,y_test,y_predicted):\n",
    "        self.y_test = y_test\n",
    "        self.y_predict = y_predicted\n",
    "    \n",
    "    def run_calculations(self):\n",
    "        return self.y_test - self.y_predicted\n",
    "    \n",
    "    def plot(self):\n",
    "        plt.hist(self.y_test - self.y_predicted)\n",
    "        plt.title('Residuals Plot for predictions')\n",
    "        plt.xlabel('Residuals')\n",
    "        plt.ylabel('Frequency')\n",
    "        return plt.show() \n",
    "    \n",
    "class HistogramPlotter(Plotter):\n",
    "    def __init__(self, y_test,y_predicted):\n",
    "        Plotter.__init__(self, y_test, y_predicted)\n",
    "        \n",
    "class ScatterPlotter(Plotter):\n",
    "    def __init__(self, y_test, y_predicted):\n",
    "        Plotter.__init__(self, y_test, y_predicted)\n",
    "\n",
    "    def plot(self):\n",
    "        chart = pd.DataFrame({\"y_test\": self.y_test, \"y_prediction\": self.y_predicted})\n",
    "        chart.plot.scatter(x=\"y_test\", y=\"y_predicted\" , c=\"Blue\")\n",
    "        plt.xlabel(\"Actual\")\n",
    "        plt.title(\"Predicted vs Actual values\")\n",
    "        plt.xlabel(\"Actual\")\n",
    "        plt.ylabel(\"Prediction\")\n",
    "        return plt.show()\n",
    "        \n",
    "\n"
   ]
  },
  {
   "cell_type": "code",
   "execution_count": 21,
   "metadata": {},
   "outputs": [],
   "source": [
    "# scaler = StandardScaler()\n",
    "\n",
    "# scaled_data = scaler.fit_transform(salary)\n",
    "\n",
    "# scaled_data = pd.DataFrame(scaled_data, columns=salary.columns)\n",
    "\n",
    "# scaled_data.head()"
   ]
  },
  {
   "cell_type": "code",
   "execution_count": null,
   "metadata": {},
   "outputs": [],
   "source": []
  },
  {
   "cell_type": "code",
   "execution_count": 22,
   "metadata": {},
   "outputs": [
    {
     "data": {
      "text/html": [
       "<table class=\"simpletable\">\n",
       "<caption>OLS Regression Results</caption>\n",
       "<tr>\n",
       "  <th>Dep. Variable:</th>      <td>salary_earned</td>  <th>  R-squared:         </th> <td>   0.829</td> \n",
       "</tr>\n",
       "<tr>\n",
       "  <th>Model:</th>                   <td>OLS</td>       <th>  Adj. R-squared:    </th> <td>   0.823</td> \n",
       "</tr>\n",
       "<tr>\n",
       "  <th>Method:</th>             <td>Least Squares</td>  <th>  F-statistic:       </th> <td>   139.4</td> \n",
       "</tr>\n",
       "<tr>\n",
       "  <th>Date:</th>             <td>Mon, 15 Jun 2020</td> <th>  Prob (F-statistic):</th> <td>2.51e-124</td>\n",
       "</tr>\n",
       "<tr>\n",
       "  <th>Time:</th>                 <td>14:44:43</td>     <th>  Log-Likelihood:    </th> <td> -3575.3</td> \n",
       "</tr>\n",
       "<tr>\n",
       "  <th>No. Observations:</th>      <td>   358</td>      <th>  AIC:               </th> <td>   7177.</td> \n",
       "</tr>\n",
       "<tr>\n",
       "  <th>Df Residuals:</th>          <td>   345</td>      <th>  BIC:               </th> <td>   7227.</td> \n",
       "</tr>\n",
       "<tr>\n",
       "  <th>Df Model:</th>              <td>    12</td>      <th>                     </th>     <td> </td>    \n",
       "</tr>\n",
       "<tr>\n",
       "  <th>Covariance Type:</th>      <td>nonrobust</td>    <th>                     </th>     <td> </td>    \n",
       "</tr>\n",
       "</table>\n",
       "<table class=\"simpletable\">\n",
       "<tr>\n",
       "           <td></td>              <th>coef</th>     <th>std err</th>      <th>t</th>      <th>P>|t|</th>  <th>[0.025</th>    <th>0.975]</th>  \n",
       "</tr>\n",
       "<tr>\n",
       "  <th>const</th>               <td> 1912.8017</td> <td> 2512.829</td> <td>    0.761</td> <td> 0.447</td> <td>-3029.591</td> <td> 6855.195</td>\n",
       "</tr>\n",
       "<tr>\n",
       "  <th>rank</th>                <td> 7143.1922</td> <td>  745.201</td> <td>    9.586</td> <td> 0.000</td> <td> 5677.484</td> <td> 8608.901</td>\n",
       "</tr>\n",
       "<tr>\n",
       "  <th>prior_experience</th>    <td>  170.7668</td> <td>   84.328</td> <td>    2.025</td> <td> 0.044</td> <td>    4.905</td> <td>  336.628</td>\n",
       "</tr>\n",
       "<tr>\n",
       "  <th>years_worked</th>        <td>  -75.8083</td> <td>  102.265</td> <td>   -0.741</td> <td> 0.459</td> <td> -276.950</td> <td>  125.333</td>\n",
       "</tr>\n",
       "<tr>\n",
       "  <th>yrs_current_rank</th>    <td>  777.7084</td> <td>   92.431</td> <td>    8.414</td> <td> 0.000</td> <td>  595.909</td> <td>  959.508</td>\n",
       "</tr>\n",
       "<tr>\n",
       "  <th>market_value</th>        <td> 2.667e+04</td> <td> 2147.154</td> <td>   12.421</td> <td> 0.000</td> <td> 2.24e+04</td> <td> 3.09e+04</td>\n",
       "</tr>\n",
       "<tr>\n",
       "  <th>degree</th>              <td>  -45.8590</td> <td> 1462.702</td> <td>   -0.031</td> <td> 0.975</td> <td>-2922.794</td> <td> 2831.076</td>\n",
       "</tr>\n",
       "<tr>\n",
       "  <th>post-secondary_qual</th> <td> 3240.7473</td> <td> 1403.798</td> <td>    2.309</td> <td> 0.022</td> <td>  479.667</td> <td> 6001.828</td>\n",
       "</tr>\n",
       "<tr>\n",
       "  <th>gender</th>              <td>  415.9797</td> <td>  977.725</td> <td>    0.425</td> <td> 0.671</td> <td>-1507.071</td> <td> 2339.031</td>\n",
       "</tr>\n",
       "<tr>\n",
       "  <th>field_Engineering</th>   <td> 6622.9986</td> <td>  931.916</td> <td>    7.107</td> <td> 0.000</td> <td> 4790.047</td> <td> 8455.950</td>\n",
       "</tr>\n",
       "<tr>\n",
       "  <th>field_Finance</th>       <td> 5515.6698</td> <td>  908.320</td> <td>    6.072</td> <td> 0.000</td> <td> 3729.128</td> <td> 7302.211</td>\n",
       "</tr>\n",
       "<tr>\n",
       "  <th>field_Marketing</th>     <td> 1370.8401</td> <td>  814.265</td> <td>    1.684</td> <td> 0.093</td> <td> -230.707</td> <td> 2972.388</td>\n",
       "</tr>\n",
       "<tr>\n",
       "  <th>years_absent</th>        <td>  -28.8787</td> <td>   23.349</td> <td>   -1.237</td> <td> 0.217</td> <td>  -74.803</td> <td>   17.045</td>\n",
       "</tr>\n",
       "</table>\n",
       "<table class=\"simpletable\">\n",
       "<tr>\n",
       "  <th>Omnibus:</th>       <td>19.269</td> <th>  Durbin-Watson:     </th> <td>   2.044</td>\n",
       "</tr>\n",
       "<tr>\n",
       "  <th>Prob(Omnibus):</th> <td> 0.000</td> <th>  Jarque-Bera (JB):  </th> <td>  26.983</td>\n",
       "</tr>\n",
       "<tr>\n",
       "  <th>Skew:</th>          <td> 0.417</td> <th>  Prob(JB):          </th> <td>1.38e-06</td>\n",
       "</tr>\n",
       "<tr>\n",
       "  <th>Kurtosis:</th>      <td> 4.055</td> <th>  Cond. No.          </th> <td>    241.</td>\n",
       "</tr>\n",
       "</table><br/><br/>Warnings:<br/>[1] Standard Errors assume that the covariance matrix of the errors is correctly specified."
      ],
      "text/plain": [
       "<class 'statsmodels.iolib.summary.Summary'>\n",
       "\"\"\"\n",
       "                            OLS Regression Results                            \n",
       "==============================================================================\n",
       "Dep. Variable:          salary_earned   R-squared:                       0.829\n",
       "Model:                            OLS   Adj. R-squared:                  0.823\n",
       "Method:                 Least Squares   F-statistic:                     139.4\n",
       "Date:                Mon, 15 Jun 2020   Prob (F-statistic):          2.51e-124\n",
       "Time:                        14:44:43   Log-Likelihood:                -3575.3\n",
       "No. Observations:                 358   AIC:                             7177.\n",
       "Df Residuals:                     345   BIC:                             7227.\n",
       "Df Model:                          12                                         \n",
       "Covariance Type:            nonrobust                                         \n",
       "=======================================================================================\n",
       "                          coef    std err          t      P>|t|      [0.025      0.975]\n",
       "---------------------------------------------------------------------------------------\n",
       "const                1912.8017   2512.829      0.761      0.447   -3029.591    6855.195\n",
       "rank                 7143.1922    745.201      9.586      0.000    5677.484    8608.901\n",
       "prior_experience      170.7668     84.328      2.025      0.044       4.905     336.628\n",
       "years_worked          -75.8083    102.265     -0.741      0.459    -276.950     125.333\n",
       "yrs_current_rank      777.7084     92.431      8.414      0.000     595.909     959.508\n",
       "market_value         2.667e+04   2147.154     12.421      0.000    2.24e+04    3.09e+04\n",
       "degree                -45.8590   1462.702     -0.031      0.975   -2922.794    2831.076\n",
       "post-secondary_qual  3240.7473   1403.798      2.309      0.022     479.667    6001.828\n",
       "gender                415.9797    977.725      0.425      0.671   -1507.071    2339.031\n",
       "field_Engineering    6622.9986    931.916      7.107      0.000    4790.047    8455.950\n",
       "field_Finance        5515.6698    908.320      6.072      0.000    3729.128    7302.211\n",
       "field_Marketing      1370.8401    814.265      1.684      0.093    -230.707    2972.388\n",
       "years_absent          -28.8787     23.349     -1.237      0.217     -74.803      17.045\n",
       "==============================================================================\n",
       "Omnibus:                       19.269   Durbin-Watson:                   2.044\n",
       "Prob(Omnibus):                  0.000   Jarque-Bera (JB):               26.983\n",
       "Skew:                           0.417   Prob(JB):                     1.38e-06\n",
       "Kurtosis:                       4.055   Cond. No.                         241.\n",
       "==============================================================================\n",
       "\n",
       "Warnings:\n",
       "[1] Standard Errors assume that the covariance matrix of the errors is correctly specified.\n",
       "\"\"\""
      ]
     },
     "execution_count": 22,
     "metadata": {},
     "output_type": "execute_result"
    }
   ],
   "source": [
    "x1 = df[['rank','prior_experience','years_worked','yrs_current_rank','market_value','degree','post-secondary_qual','gender','field_Engineering','field_Finance','field_Marketing','years_absent' ]]\n",
    "y1 = df['salary_earned']\n",
    "X_train1, X_test1, y_train1, y_test1 = train_test_split(x1, y1, test_size=0.30, random_state=42)\n",
    "#concatinating into Train and Test set\n",
    "df_train1 = pd.concat([X_train1, y_train1], axis=1).reindex(X_train.index)\n",
    "df_test1 = pd.concat([X_test1, y_test1], axis=1).reindex(X_test.index)\n",
    "# add constant\n",
    "X_train1 = sm.add_constant(X_train1)\n",
    "X_test1 = sm.add_constant(X_test1)\n",
    "\n",
    "X1 = X_train1\n",
    "y1 = y_train1\n",
    "# fitting the model\n",
    "model1 = sm.OLS(y1, X1).fit()\n",
    "model1.summary()"
   ]
  },
  {
   "cell_type": "markdown",
   "metadata": {},
   "source": [
    "## Model1 Evaluation"
   ]
  },
  {
   "cell_type": "markdown",
   "metadata": {},
   "source": [
    "### MOdel errors "
   ]
  },
  {
   "cell_type": "code",
   "execution_count": 23,
   "metadata": {},
   "outputs": [],
   "source": [
    "# from ErrorCalculator import ErrorCalculator\n",
    "model_errors1 = ErrorCalculator(y_test1, model1.predict(sm.add_constant(X_test1)))\n"
   ]
  },
  {
   "cell_type": "code",
   "execution_count": 24,
   "metadata": {},
   "outputs": [
    {
     "data": {
      "text/plain": [
       "<__main__.ErrorCalculator at 0x7fa1ebee33d0>"
      ]
     },
     "execution_count": 24,
     "metadata": {},
     "output_type": "execute_result"
    }
   ],
   "source": [
    "model_errors1"
   ]
  },
  {
   "cell_type": "markdown",
   "metadata": {},
   "source": [
    "### Model 1 plots\n"
   ]
  },
  {
   "cell_type": "code",
   "execution_count": 25,
   "metadata": {},
   "outputs": [],
   "source": [
    "model1_plot = HistogramPlotter(y_test1, model1.predict(sm.add_constant(X_test1)))"
   ]
  },
  {
   "cell_type": "code",
   "execution_count": 32,
   "metadata": {},
   "outputs": [
    {
     "ename": "ModuleNotFoundError",
     "evalue": "No module named 'HistogramPlotter'",
     "output_type": "error",
     "traceback": [
      "\u001b[0;31m---------------------------------------------------------------------------\u001b[0m",
      "\u001b[0;31mModuleNotFoundError\u001b[0m                       Traceback (most recent call last)",
      "\u001b[0;32m<ipython-input-32-dbb2db2de28b>\u001b[0m in \u001b[0;36m<module>\u001b[0;34m\u001b[0m\n\u001b[1;32m      3\u001b[0m         \u001b[0mPlotter\u001b[0m\u001b[0;34m.\u001b[0m\u001b[0m__init__\u001b[0m\u001b[0;34m(\u001b[0m\u001b[0mself\u001b[0m\u001b[0;34m,\u001b[0m \u001b[0my_test\u001b[0m\u001b[0;34m,\u001b[0m \u001b[0my_predicted\u001b[0m\u001b[0;34m)\u001b[0m\u001b[0;34m\u001b[0m\u001b[0;34m\u001b[0m\u001b[0m\n\u001b[1;32m      4\u001b[0m \u001b[0;34m\u001b[0m\u001b[0m\n\u001b[0;32m----> 5\u001b[0;31m \u001b[0;32mfrom\u001b[0m \u001b[0mHistogramPlotter\u001b[0m \u001b[0;32mimport\u001b[0m \u001b[0mHistogramPlotter\u001b[0m\u001b[0;34m\u001b[0m\u001b[0;34m\u001b[0m\u001b[0m\n\u001b[0m\u001b[1;32m      6\u001b[0m \u001b[0mmodel1_plot\u001b[0m \u001b[0;34m=\u001b[0m \u001b[0mHistogramPlotter\u001b[0m\u001b[0;34m(\u001b[0m\u001b[0my_test1\u001b[0m\u001b[0;34m,\u001b[0m \u001b[0mmodel1\u001b[0m\u001b[0;34m.\u001b[0m\u001b[0mpredict\u001b[0m\u001b[0;34m(\u001b[0m\u001b[0msm\u001b[0m\u001b[0;34m.\u001b[0m\u001b[0madd_constant\u001b[0m\u001b[0;34m(\u001b[0m\u001b[0mX_test1\u001b[0m\u001b[0;34m)\u001b[0m\u001b[0;34m)\u001b[0m\u001b[0;34m)\u001b[0m\u001b[0;34m\u001b[0m\u001b[0;34m\u001b[0m\u001b[0m\n\u001b[1;32m      7\u001b[0m \u001b[0mmodel1_plot\u001b[0m\u001b[0;34m.\u001b[0m\u001b[0mplot\u001b[0m\u001b[0;34m(\u001b[0m\u001b[0;34m)\u001b[0m\u001b[0;34m\u001b[0m\u001b[0;34m\u001b[0m\u001b[0m\n",
      "\u001b[0;31mModuleNotFoundError\u001b[0m: No module named 'HistogramPlotter'"
     ]
    }
   ],
   "source": [
    "class HistogramPlotter(Plotter):\n",
    "    def __init__(self, y_test,y_predicted):\n",
    "        Plotter.__init__(self, y_test, y_predicted)\n",
    "        \n",
    "from HistogramPlotter import HistogramPlotter\n",
    "model1_plot = HistogramPlotter(y_test1, model1.predict(sm.add_constant(X_test1)))\n",
    "model1_plot.plot()"
   ]
  },
  {
   "cell_type": "code",
   "execution_count": null,
   "metadata": {},
   "outputs": [],
   "source": []
  }
 ],
 "metadata": {
  "kernelspec": {
   "display_name": "Python 3",
   "language": "python",
   "name": "python3"
  },
  "language_info": {
   "codemirror_mode": {
    "name": "ipython",
    "version": 3
   },
   "file_extension": ".py",
   "mimetype": "text/x-python",
   "name": "python",
   "nbconvert_exporter": "python",
   "pygments_lexer": "ipython3",
   "version": "3.7.6"
  }
 },
 "nbformat": 4,
 "nbformat_minor": 4
}
